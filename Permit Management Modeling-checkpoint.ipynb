{
 "cells": [
  {
   "cell_type": "markdown",
   "metadata": {},
   "source": [
    "**Import Packages**"
   ]
  },
  {
   "cell_type": "code",
   "execution_count": 1,
   "metadata": {},
   "outputs": [],
   "source": [
    "%matplotlib inline\n",
    "import numpy as np\n",
    "import scipy as sp\n",
    "import matplotlib as mpl\n",
    "import matplotlib.cm as cm\n",
    "from matplotlib.colors import ListedColormap\n",
    "import matplotlib.pyplot as plt\n",
    "import pandas as pd\n",
    "import seaborn as sns\n",
    "import sklearn.model_selection"
   ]
  },
  {
   "cell_type": "markdown",
   "metadata": {},
   "source": [
    "**Load, inspect dataset**"
   ]
  },
  {
   "cell_type": "code",
   "execution_count": 2,
   "metadata": {
    "scrolled": true
   },
   "outputs": [
    {
     "name": "stdout",
     "output_type": "stream",
     "text": [
      "Dataframe size: (235, 32)\n",
      "Columns: Index(['UniqueID', 'State', 'Domain', 'SiteCode', 'FieldSite_Name',\n",
      "       'Permit_Type', 'Permit_Description', 'Expiration_Date',\n",
      "       'Renewal_Start_Date', 'Fee_Due_Date', 'Fee_Amount', 'Fee_Escalator',\n",
      "       'Fee_Frequency', 'Fee_Processing_Type', 'Vendor_Name',\n",
      "       'Vendor_Agency_Type', 'PermitAgency_Website',\n",
      "       'ExternalResearch_Availability (Yes, Limited, Unlikely)',\n",
      "       'ResearchSensitivityIssues', 'Vendor_Address', 'SiteHost_Name',\n",
      "       'Primary_NEON_Host', 'SiteHost_Phone', 'SiteHost_Email',\n",
      "       'Report_Due_Date', 'Permit_Conditions_Notes', 'Permit_Number',\n",
      "       'Novation_Entity', 'Processing_Time_Days', 'Term_Length_Years',\n",
      "       'Most_Recent_Issuance_Date', 'Variance_Filed'],\n",
      "      dtype='object')\n",
      "Data types: UniqueID                                                   object\n",
      "State                                                      object\n",
      "Domain                                                     object\n",
      "SiteCode                                                   object\n",
      "FieldSite_Name                                             object\n",
      "Permit_Type                                                object\n",
      "Permit_Description                                         object\n",
      "Expiration_Date                                            object\n",
      "Renewal_Start_Date                                         object\n",
      "Fee_Due_Date                                               object\n",
      "Fee_Amount                                                float64\n",
      "Fee_Escalator                                             float64\n",
      "Fee_Frequency                                              object\n",
      "Fee_Processing_Type                                        object\n",
      "Vendor_Name                                                object\n",
      "Vendor_Agency_Type                                         object\n",
      "PermitAgency_Website                                       object\n",
      "ExternalResearch_Availability (Yes, Limited, Unlikely)     object\n",
      "ResearchSensitivityIssues                                  object\n",
      "Vendor_Address                                             object\n",
      "SiteHost_Name                                              object\n",
      "Primary_NEON_Host                                          object\n",
      "SiteHost_Phone                                             object\n",
      "SiteHost_Email                                             object\n",
      "Report_Due_Date                                            object\n",
      "Permit_Conditions_Notes                                    object\n",
      "Permit_Number                                              object\n",
      "Novation_Entity                                            object\n",
      "Processing_Time_Days                                      float64\n",
      "Term_Length_Years                                         float64\n",
      "Most_Recent_Issuance_Date                                  object\n",
      "Variance_Filed                                             object\n",
      "dtype: object\n"
     ]
    },
    {
     "data": {
      "text/html": [
       "<div>\n",
       "<style scoped>\n",
       "    .dataframe tbody tr th:only-of-type {\n",
       "        vertical-align: middle;\n",
       "    }\n",
       "\n",
       "    .dataframe tbody tr th {\n",
       "        vertical-align: top;\n",
       "    }\n",
       "\n",
       "    .dataframe thead th {\n",
       "        text-align: right;\n",
       "    }\n",
       "</style>\n",
       "<table border=\"1\" class=\"dataframe\">\n",
       "  <thead>\n",
       "    <tr style=\"text-align: right;\">\n",
       "      <th></th>\n",
       "      <th>UniqueID</th>\n",
       "      <th>State</th>\n",
       "      <th>Domain</th>\n",
       "      <th>SiteCode</th>\n",
       "      <th>FieldSite_Name</th>\n",
       "      <th>Permit_Type</th>\n",
       "      <th>Permit_Description</th>\n",
       "      <th>Expiration_Date</th>\n",
       "      <th>Renewal_Start_Date</th>\n",
       "      <th>Fee_Due_Date</th>\n",
       "      <th>...</th>\n",
       "      <th>SiteHost_Phone</th>\n",
       "      <th>SiteHost_Email</th>\n",
       "      <th>Report_Due_Date</th>\n",
       "      <th>Permit_Conditions_Notes</th>\n",
       "      <th>Permit_Number</th>\n",
       "      <th>Novation_Entity</th>\n",
       "      <th>Processing_Time_Days</th>\n",
       "      <th>Term_Length_Years</th>\n",
       "      <th>Most_Recent_Issuance_Date</th>\n",
       "      <th>Variance_Filed</th>\n",
       "    </tr>\n",
       "  </thead>\n",
       "  <tbody>\n",
       "    <tr>\n",
       "      <th>0</th>\n",
       "      <td>D01_1</td>\n",
       "      <td>MA</td>\n",
       "      <td>D01</td>\n",
       "      <td>HARV</td>\n",
       "      <td>Harvard Forest</td>\n",
       "      <td>IACUC</td>\n",
       "      <td>Harvard IACUC</td>\n",
       "      <td>1/1/2021</td>\n",
       "      <td>2/1/2021</td>\n",
       "      <td>NaN</td>\n",
       "      <td>...</td>\n",
       "      <td>978-756-6168</td>\n",
       "      <td>aabarker@fas.harvard.edu</td>\n",
       "      <td>NaN</td>\n",
       "      <td>Annual updates required.</td>\n",
       "      <td>-</td>\n",
       "      <td>NEON(inc.)</td>\n",
       "      <td>NaN</td>\n",
       "      <td>NaN</td>\n",
       "      <td>3/7/2014</td>\n",
       "      <td>Y</td>\n",
       "    </tr>\n",
       "    <tr>\n",
       "      <th>1</th>\n",
       "      <td>D01_2</td>\n",
       "      <td>MA</td>\n",
       "      <td>D01</td>\n",
       "      <td>HARV</td>\n",
       "      <td>Harvard Forest</td>\n",
       "      <td>LUA</td>\n",
       "      <td>Land Use Authorization</td>\n",
       "      <td>7/1/2025</td>\n",
       "      <td>1/1/2025</td>\n",
       "      <td>11/1/2020</td>\n",
       "      <td>...</td>\n",
       "      <td>978-756-6168</td>\n",
       "      <td>aabarker@fas.harvard.edu</td>\n",
       "      <td>NaN</td>\n",
       "      <td>See permit.</td>\n",
       "      <td>None</td>\n",
       "      <td>BMI</td>\n",
       "      <td>NaN</td>\n",
       "      <td>5.0</td>\n",
       "      <td>6/30/2020</td>\n",
       "      <td>Y</td>\n",
       "    </tr>\n",
       "    <tr>\n",
       "      <th>2</th>\n",
       "      <td>D01_3</td>\n",
       "      <td>MA</td>\n",
       "      <td>D01</td>\n",
       "      <td>HARV</td>\n",
       "      <td>Harvard Forest</td>\n",
       "      <td>LUA</td>\n",
       "      <td>Memorandum of Agreement</td>\n",
       "      <td>2/9/2043</td>\n",
       "      <td>6/30/2042</td>\n",
       "      <td>NaN</td>\n",
       "      <td>...</td>\n",
       "      <td>978-756-6168</td>\n",
       "      <td>aabarker@fas.harvard.edu</td>\n",
       "      <td>NaN</td>\n",
       "      <td>See permit.</td>\n",
       "      <td>None</td>\n",
       "      <td>NEON(inc.)</td>\n",
       "      <td>NaN</td>\n",
       "      <td>30.0</td>\n",
       "      <td>7/1/2015</td>\n",
       "      <td>Y</td>\n",
       "    </tr>\n",
       "  </tbody>\n",
       "</table>\n",
       "<p>3 rows × 32 columns</p>\n",
       "</div>"
      ],
      "text/plain": [
       "  UniqueID State Domain SiteCode  FieldSite_Name Permit_Type  \\\n",
       "0    D01_1    MA    D01     HARV  Harvard Forest       IACUC   \n",
       "1    D01_2    MA    D01     HARV  Harvard Forest         LUA   \n",
       "2    D01_3    MA    D01     HARV  Harvard Forest         LUA   \n",
       "\n",
       "        Permit_Description Expiration_Date Renewal_Start_Date Fee_Due_Date  \\\n",
       "0            Harvard IACUC        1/1/2021           2/1/2021          NaN   \n",
       "1   Land Use Authorization        7/1/2025           1/1/2025    11/1/2020   \n",
       "2  Memorandum of Agreement        2/9/2043          6/30/2042          NaN   \n",
       "\n",
       "   ...  SiteHost_Phone            SiteHost_Email Report_Due_Date  \\\n",
       "0  ...    978-756-6168  aabarker@fas.harvard.edu             NaN   \n",
       "1  ...    978-756-6168  aabarker@fas.harvard.edu             NaN   \n",
       "2  ...    978-756-6168  aabarker@fas.harvard.edu             NaN   \n",
       "\n",
       "    Permit_Conditions_Notes Permit_Number Novation_Entity  \\\n",
       "0  Annual updates required.             -      NEON(inc.)   \n",
       "1              See permit.           None             BMI   \n",
       "2              See permit.           None      NEON(inc.)   \n",
       "\n",
       "  Processing_Time_Days Term_Length_Years Most_Recent_Issuance_Date  \\\n",
       "0                  NaN               NaN                  3/7/2014   \n",
       "1                  NaN               5.0                 6/30/2020   \n",
       "2                  NaN              30.0                  7/1/2015   \n",
       "\n",
       "  Variance_Filed  \n",
       "0              Y  \n",
       "1              Y  \n",
       "2              Y  \n",
       "\n",
       "[3 rows x 32 columns]"
      ]
     },
     "execution_count": 2,
     "metadata": {},
     "output_type": "execute_result"
    }
   ],
   "source": [
    "#import dataset (.csv) as pandas dataframe\n",
    "df = pd.read_csv(\"C:/Users/srubin/Desktop/PermitsDatabase.csv\")\n",
    "\n",
    "#shape of df\n",
    "print(\"Dataframe size: \" + str(df.shape))\n",
    "\n",
    "#dataframe columns\n",
    "print(\"Columns: \" +str(df.columns))\n",
    "\n",
    "#data types of df\n",
    "print(\"Data types: \" + str(df.dtypes))\n",
    "\n",
    "df.head(3)"
   ]
  },
  {
   "cell_type": "markdown",
   "metadata": {},
   "source": [
    "**Keep relevant column features import to the permit/agreement**\n",
    "\n",
    "**Convert datetime columns to date using pd.to_datetime()**"
   ]
  },
  {
   "cell_type": "code",
   "execution_count": 3,
   "metadata": {
    "scrolled": false
   },
   "outputs": [
    {
     "data": {
      "text/html": [
       "<div>\n",
       "<style scoped>\n",
       "    .dataframe tbody tr th:only-of-type {\n",
       "        vertical-align: middle;\n",
       "    }\n",
       "\n",
       "    .dataframe tbody tr th {\n",
       "        vertical-align: top;\n",
       "    }\n",
       "\n",
       "    .dataframe thead th {\n",
       "        text-align: right;\n",
       "    }\n",
       "</style>\n",
       "<table border=\"1\" class=\"dataframe\">\n",
       "  <thead>\n",
       "    <tr style=\"text-align: right;\">\n",
       "      <th></th>\n",
       "      <th>State</th>\n",
       "      <th>Permit_Type</th>\n",
       "      <th>Expiration_Date</th>\n",
       "      <th>Fee_Amount</th>\n",
       "      <th>Vendor_Name</th>\n",
       "      <th>Vendor_Agency_Type</th>\n",
       "      <th>Processing_Time_Days</th>\n",
       "      <th>Term_Length_Years</th>\n",
       "      <th>Most_Recent_Issuance_Date</th>\n",
       "      <th>Variance_Filed</th>\n",
       "    </tr>\n",
       "  </thead>\n",
       "  <tbody>\n",
       "    <tr>\n",
       "      <th>0</th>\n",
       "      <td>MA</td>\n",
       "      <td>IACUC</td>\n",
       "      <td>1/1/2021</td>\n",
       "      <td>NaN</td>\n",
       "      <td>Harvard Forest</td>\n",
       "      <td>University</td>\n",
       "      <td>NaN</td>\n",
       "      <td>NaN</td>\n",
       "      <td>3/7/2014</td>\n",
       "      <td>Y</td>\n",
       "    </tr>\n",
       "    <tr>\n",
       "      <th>1</th>\n",
       "      <td>MA</td>\n",
       "      <td>LUA</td>\n",
       "      <td>7/1/2025</td>\n",
       "      <td>33835.0</td>\n",
       "      <td>Harvard Forest</td>\n",
       "      <td>University</td>\n",
       "      <td>NaN</td>\n",
       "      <td>5.0</td>\n",
       "      <td>6/30/2020</td>\n",
       "      <td>Y</td>\n",
       "    </tr>\n",
       "  </tbody>\n",
       "</table>\n",
       "</div>"
      ],
      "text/plain": [
       "  State Permit_Type Expiration_Date  Fee_Amount     Vendor_Name  \\\n",
       "0    MA       IACUC        1/1/2021         NaN  Harvard Forest   \n",
       "1    MA         LUA        7/1/2025     33835.0  Harvard Forest   \n",
       "\n",
       "  Vendor_Agency_Type  Processing_Time_Days  Term_Length_Years  \\\n",
       "0         University                   NaN                NaN   \n",
       "1         University                   NaN                5.0   \n",
       "\n",
       "  Most_Recent_Issuance_Date Variance_Filed  \n",
       "0                  3/7/2014              Y  \n",
       "1                 6/30/2020              Y  "
      ]
     },
     "execution_count": 3,
     "metadata": {},
     "output_type": "execute_result"
    }
   ],
   "source": [
    "#subset df for import permitting/agreement features from columns\n",
    "df = df[['State',\"Permit_Type\",'Expiration_Date','Fee_Amount','Vendor_Name','Vendor_Agency_Type','Processing_Time_Days','Term_Length_Years','Most_Recent_Issuance_Date','Variance_Filed']]\n",
    "df.head(2)"
   ]
  },
  {
   "cell_type": "code",
   "execution_count": 4,
   "metadata": {},
   "outputs": [],
   "source": [
    "#convert NaN in \"Fee_Amount\",\"Processing_Time_Days\",'Term_Length_Years' to 0\n",
    "df[[\"Fee_Amount\",\"Processing_Time_Days\",'Term_Length_Years']] = df[[\"Fee_Amount\",\"Processing_Time_Days\",'Term_Length_Years']].fillna(0)"
   ]
  },
  {
   "cell_type": "code",
   "execution_count": 5,
   "metadata": {},
   "outputs": [
    {
     "name": "stdout",
     "output_type": "stream",
     "text": [
      "Number of NA rows under Expiration_Date: 43\n",
      "df original shape: (235, 10)\n",
      " \n",
      "Value Counts in Variance_Filed: N     71\n",
      "Y     54\n",
      "N      1\n",
      "Name: Variance_Filed, dtype: int64\n",
      "   \n",
      "NaN values in Variance_Filed: 109\n",
      "NaN values in Variance_Filed: 0\n",
      " \n",
      "Value Counts in Variance_Filed: N     180\n",
      "Y      54\n",
      "N       1\n",
      "Name: Variance_Filed, dtype: int64\n",
      "   \n",
      "NaN values in Variance_Filed: 0\n"
     ]
    }
   ],
   "source": [
    "#remove na rows under 'Expiration_Date' from df\n",
    "print(\"Number of NA rows under Expiration_Date: \" + str(df.Expiration_Date.isna().sum()))\n",
    "\n",
    "#compare before and after df.dropna()\n",
    "print(\"df original shape: \" + str(df.shape))\n",
    "print(\" \")\n",
    "\n",
    "#review column \"Variance_Filed\"\n",
    "print(\"Value Counts in Variance_Filed: \" + str(df.Variance_Filed.value_counts()))\n",
    "print(\"   \")\n",
    "print(\"NaN values in Variance_Filed: \" + str(df.Variance_Filed.isna().sum()))\n",
    "\n",
    "#Convert NaN in Variance_Filed to \"N\", since we assume a variance or issue with permit process to be recorded\n",
    "df['Variance_Filed'] = df['Variance_Filed'].fillna(\"N\")\n",
    "\n",
    "print(\"NaN values in Variance_Filed: \" + str(df.Variance_Filed.isna().sum()))\n",
    "print(\" \")\n",
    "df.Variance_Filed.value_counts()\n",
    "\n",
    "df.Variance_Filed.values\n",
    "\n",
    "#review column \"Variance_Filed\"\n",
    "print(\"Value Counts in Variance_Filed: \" + str(df.Variance_Filed.value_counts()))\n",
    "print(\"   \")\n",
    "print(\"NaN values in Variance_Filed: \" + str(df.Variance_Filed.isna().sum()))"
   ]
  },
  {
   "cell_type": "markdown",
   "metadata": {},
   "source": [
    "**Column \"Variance_Filed\" should be a binary class: 0- variance filed during last permit renewal/lapse in permit coverage/delay to project from permit delay; 1-no lapse in the permit renewal time/process/ no-delay **"
   ]
  },
  {
   "cell_type": "code",
   "execution_count": 6,
   "metadata": {
    "scrolled": true
   },
   "outputs": [
    {
     "data": {
      "text/plain": [
       "N    181\n",
       "Y     54\n",
       "Name: Variance_Filed, dtype: int64"
      ]
     },
     "execution_count": 6,
     "metadata": {},
     "output_type": "execute_result"
    }
   ],
   "source": [
    "df['Variance_Filed'] = df['Variance_Filed'].str.replace(' ', '')\n",
    "\n",
    "df.Variance_Filed.value_counts()"
   ]
  },
  {
   "cell_type": "code",
   "execution_count": 7,
   "metadata": {},
   "outputs": [
    {
     "name": "stdout",
     "output_type": "stream",
     "text": [
      "LUA          109\n",
      "SCP           74\n",
      "IACUC         19\n",
      "DSF           17\n",
      "BUOY           5\n",
      "APHIS          5\n",
      "GWW            3\n",
      "DSF Lease      1\n",
      "DSF            1\n",
      "DSF            1\n",
      "Name: Permit_Type, dtype: int64\n"
     ]
    }
   ],
   "source": [
    "print(df.Permit_Type.value_counts())   \n",
    "\n",
    "#regroup LUA, BUOY, GWW into \"Access_LandUse\"\n",
    "#regroup: IACUC, APHIS into \"Plant_Animal\"\n",
    "#regroup: anything with \"DSF\" into \"Facility_Lease\"\n",
    "#rename: SCP to \"Scientific_Permit\"\n",
    "\n",
    "def label_permit(x):\n",
    "    if \"LUA\" in x:\n",
    "        return \"Access_LandUse\"\n",
    "    elif \"GWW\" in x:\n",
    "        return \"Access_LandUse\"\n",
    "    elif \"BUOY\" in x:\n",
    "        return \"Access_LandUse\"\n",
    "    elif \"IACUC\" in x:\n",
    "        return \"Plant_Animal\"\n",
    "    elif \"APHIS\" in x:\n",
    "        return \"Plant_Animal\"\n",
    "    elif \"DSF\" in x:\n",
    "        return \"Facility_Lease\"\n",
    "    elif \"DSF Lease\" in x:\n",
    "        return \"Facility_Lease\"\n",
    "    elif \"SCP\" in x:\n",
    "        return \"Scientific_Permit\"\n",
    "    else: return \"Other\"\n",
    "\n",
    "df['Permit_Label'] = df['Permit_Type'].apply(label_permit)"
   ]
  },
  {
   "cell_type": "code",
   "execution_count": 8,
   "metadata": {
    "scrolled": true
   },
   "outputs": [
    {
     "name": "stdout",
     "output_type": "stream",
     "text": [
      "Access_LandUse       117\n",
      "Scientific_Permit     74\n",
      "Plant_Animal          24\n",
      "Facility_Lease        20\n",
      "Name: Permit_Label, dtype: int64\n",
      " \n",
      "NaN values in Permit_Label: 0\n"
     ]
    },
    {
     "data": {
      "text/html": [
       "<div>\n",
       "<style scoped>\n",
       "    .dataframe tbody tr th:only-of-type {\n",
       "        vertical-align: middle;\n",
       "    }\n",
       "\n",
       "    .dataframe tbody tr th {\n",
       "        vertical-align: top;\n",
       "    }\n",
       "\n",
       "    .dataframe thead th {\n",
       "        text-align: right;\n",
       "    }\n",
       "</style>\n",
       "<table border=\"1\" class=\"dataframe\">\n",
       "  <thead>\n",
       "    <tr style=\"text-align: right;\">\n",
       "      <th></th>\n",
       "      <th>State</th>\n",
       "      <th>Permit_Type</th>\n",
       "      <th>Expiration_Date</th>\n",
       "      <th>Fee_Amount</th>\n",
       "      <th>Vendor_Name</th>\n",
       "      <th>Vendor_Agency_Type</th>\n",
       "      <th>Processing_Time_Days</th>\n",
       "      <th>Term_Length_Years</th>\n",
       "      <th>Most_Recent_Issuance_Date</th>\n",
       "      <th>Variance_Filed</th>\n",
       "      <th>Permit_Label</th>\n",
       "    </tr>\n",
       "  </thead>\n",
       "  <tbody>\n",
       "    <tr>\n",
       "      <th>0</th>\n",
       "      <td>MA</td>\n",
       "      <td>IACUC</td>\n",
       "      <td>1/1/2021</td>\n",
       "      <td>0.0</td>\n",
       "      <td>Harvard Forest</td>\n",
       "      <td>University</td>\n",
       "      <td>0.0</td>\n",
       "      <td>0.0</td>\n",
       "      <td>3/7/2014</td>\n",
       "      <td>Y</td>\n",
       "      <td>Plant_Animal</td>\n",
       "    </tr>\n",
       "    <tr>\n",
       "      <th>1</th>\n",
       "      <td>MA</td>\n",
       "      <td>LUA</td>\n",
       "      <td>7/1/2025</td>\n",
       "      <td>33835.0</td>\n",
       "      <td>Harvard Forest</td>\n",
       "      <td>University</td>\n",
       "      <td>0.0</td>\n",
       "      <td>5.0</td>\n",
       "      <td>6/30/2020</td>\n",
       "      <td>Y</td>\n",
       "      <td>Access_LandUse</td>\n",
       "    </tr>\n",
       "    <tr>\n",
       "      <th>2</th>\n",
       "      <td>MA</td>\n",
       "      <td>LUA</td>\n",
       "      <td>2/9/2043</td>\n",
       "      <td>0.0</td>\n",
       "      <td>Harvard Forest</td>\n",
       "      <td>University</td>\n",
       "      <td>0.0</td>\n",
       "      <td>30.0</td>\n",
       "      <td>7/1/2015</td>\n",
       "      <td>Y</td>\n",
       "      <td>Access_LandUse</td>\n",
       "    </tr>\n",
       "  </tbody>\n",
       "</table>\n",
       "</div>"
      ],
      "text/plain": [
       "  State Permit_Type Expiration_Date  Fee_Amount     Vendor_Name  \\\n",
       "0    MA       IACUC        1/1/2021         0.0  Harvard Forest   \n",
       "1    MA         LUA        7/1/2025     33835.0  Harvard Forest   \n",
       "2    MA         LUA        2/9/2043         0.0  Harvard Forest   \n",
       "\n",
       "  Vendor_Agency_Type  Processing_Time_Days  Term_Length_Years  \\\n",
       "0         University                   0.0                0.0   \n",
       "1         University                   0.0                5.0   \n",
       "2         University                   0.0               30.0   \n",
       "\n",
       "  Most_Recent_Issuance_Date Variance_Filed    Permit_Label  \n",
       "0                  3/7/2014              Y    Plant_Animal  \n",
       "1                 6/30/2020              Y  Access_LandUse  \n",
       "2                  7/1/2015              Y  Access_LandUse  "
      ]
     },
     "execution_count": 8,
     "metadata": {},
     "output_type": "execute_result"
    }
   ],
   "source": [
    "print(df.Permit_Label.value_counts())   \n",
    "print(\" \")\n",
    "print(\"NaN values in Permit_Label: \" + str(df.Permit_Label.isna().sum()))\n",
    "df.head(3)"
   ]
  },
  {
   "cell_type": "code",
   "execution_count": 9,
   "metadata": {},
   "outputs": [
    {
     "name": "stdout",
     "output_type": "stream",
     "text": [
      "Federal Agency    49\n",
      "University        43\n",
      "Private           37\n",
      "State             35\n",
      "Federal           28\n",
      "State Agency      19\n",
      "Territory          7\n",
      "City               5\n",
      "State              4\n",
      "Federal            3\n",
      "USFS               2\n",
      "County             1\n",
      "State DNR          1\n",
      "Name: Vendor_Agency_Type, dtype: int64\n",
      " \n",
      "Federal        82\n",
      "University     81\n",
      "StateAgency    66\n",
      "Local           6\n",
      "Name: Agency_Type, dtype: int64\n",
      " \n",
      "NaN in Agency_Type: 0\n"
     ]
    }
   ],
   "source": [
    "#Inspect Vendor_Name\n",
    "#Create new column and label between \"Federal\", 'State',\"Local\", 'Private','University'\n",
    "print(df.Vendor_Agency_Type.value_counts())  #convert column to object\n",
    "\n",
    "df['Vendor_Agency_Type'] = df['Vendor_Agency_Type'].apply(str)\n",
    "def agency_category(x):\n",
    "    if \"Federal Agency\" in x:\n",
    "        return \"Federal\"\n",
    "    elif \"Federal\" in x:\n",
    "        return \"Federal\"\n",
    "    elif \"USFS\" in x:\n",
    "        return \"Federal\"\n",
    "    elif \"State\" in x:\n",
    "        return \"StateAgency\"\n",
    "    elif \"State Agency\" in x:\n",
    "        return \"StateAgency\"\n",
    "    elif \"State DNR\" in x:\n",
    "        return \"StateAgency\"\n",
    "    elif \"Territory\" in x:\n",
    "        return \"StateAgency\"\n",
    "    elif \"City\" in x:\n",
    "        return \"Local\"\n",
    "    elif \"County\" in x:\n",
    "        return \"Local\"\n",
    "    else: return \"University\"\n",
    "\n",
    "df['Agency_Type'] = df['Vendor_Agency_Type'].apply(agency_category)\n",
    "print(\" \")\n",
    "print(df.Agency_Type.value_counts()) \n",
    "print(\" \")\n",
    "print(\"NaN in Agency_Type: \" + str(df.Agency_Type.isna().sum()))"
   ]
  },
  {
   "cell_type": "code",
   "execution_count": 10,
   "metadata": {
    "scrolled": false
   },
   "outputs": [],
   "source": [
    "#convert \"Expiration_Date\",\"Most_Recent_Issuance_Date\" to Datetime object\n",
    "df[['Expiration_Date','Most_Recent_Issuance_Date']] = df[['Expiration_Date','Most_Recent_Issuance_Date']].apply(pd.to_datetime, errors='coerce')"
   ]
  },
  {
   "cell_type": "code",
   "execution_count": 11,
   "metadata": {
    "scrolled": true
   },
   "outputs": [
    {
     "data": {
      "text/plain": [
       "State                                object\n",
       "Permit_Type                          object\n",
       "Expiration_Date              datetime64[ns]\n",
       "Fee_Amount                          float64\n",
       "Vendor_Name                          object\n",
       "Vendor_Agency_Type                   object\n",
       "Processing_Time_Days                float64\n",
       "Term_Length_Years                   float64\n",
       "Most_Recent_Issuance_Date    datetime64[ns]\n",
       "Variance_Filed                       object\n",
       "Permit_Label                         object\n",
       "Agency_Type                          object\n",
       "dtype: object"
      ]
     },
     "execution_count": 11,
     "metadata": {},
     "output_type": "execute_result"
    }
   ],
   "source": [
    "df.dtypes"
   ]
  },
  {
   "cell_type": "code",
   "execution_count": 12,
   "metadata": {},
   "outputs": [
    {
     "data": {
      "text/html": [
       "<div>\n",
       "<style scoped>\n",
       "    .dataframe tbody tr th:only-of-type {\n",
       "        vertical-align: middle;\n",
       "    }\n",
       "\n",
       "    .dataframe tbody tr th {\n",
       "        vertical-align: top;\n",
       "    }\n",
       "\n",
       "    .dataframe thead th {\n",
       "        text-align: right;\n",
       "    }\n",
       "</style>\n",
       "<table border=\"1\" class=\"dataframe\">\n",
       "  <thead>\n",
       "    <tr style=\"text-align: right;\">\n",
       "      <th></th>\n",
       "      <th>State</th>\n",
       "      <th>Permit_Type</th>\n",
       "      <th>Expiration_Date</th>\n",
       "      <th>Fee_Amount</th>\n",
       "      <th>Vendor_Name</th>\n",
       "      <th>Vendor_Agency_Type</th>\n",
       "      <th>Processing_Time_Days</th>\n",
       "      <th>Term_Length_Years</th>\n",
       "      <th>Most_Recent_Issuance_Date</th>\n",
       "      <th>Variance_Filed</th>\n",
       "      <th>Permit_Label</th>\n",
       "      <th>Agency_Type</th>\n",
       "    </tr>\n",
       "  </thead>\n",
       "  <tbody>\n",
       "    <tr>\n",
       "      <th>0</th>\n",
       "      <td>MA</td>\n",
       "      <td>IACUC</td>\n",
       "      <td>2021-01-01</td>\n",
       "      <td>0.0</td>\n",
       "      <td>Harvard Forest</td>\n",
       "      <td>University</td>\n",
       "      <td>0.0</td>\n",
       "      <td>0.0</td>\n",
       "      <td>2014-03-07</td>\n",
       "      <td>Y</td>\n",
       "      <td>Plant_Animal</td>\n",
       "      <td>University</td>\n",
       "    </tr>\n",
       "    <tr>\n",
       "      <th>1</th>\n",
       "      <td>MA</td>\n",
       "      <td>LUA</td>\n",
       "      <td>2025-07-01</td>\n",
       "      <td>33835.0</td>\n",
       "      <td>Harvard Forest</td>\n",
       "      <td>University</td>\n",
       "      <td>0.0</td>\n",
       "      <td>5.0</td>\n",
       "      <td>2020-06-30</td>\n",
       "      <td>Y</td>\n",
       "      <td>Access_LandUse</td>\n",
       "      <td>University</td>\n",
       "    </tr>\n",
       "  </tbody>\n",
       "</table>\n",
       "</div>"
      ],
      "text/plain": [
       "  State Permit_Type Expiration_Date  Fee_Amount     Vendor_Name  \\\n",
       "0    MA       IACUC      2021-01-01         0.0  Harvard Forest   \n",
       "1    MA         LUA      2025-07-01     33835.0  Harvard Forest   \n",
       "\n",
       "  Vendor_Agency_Type  Processing_Time_Days  Term_Length_Years  \\\n",
       "0         University                   0.0                0.0   \n",
       "1         University                   0.0                5.0   \n",
       "\n",
       "  Most_Recent_Issuance_Date Variance_Filed    Permit_Label Agency_Type  \n",
       "0                2014-03-07              Y    Plant_Animal  University  \n",
       "1                2020-06-30              Y  Access_LandUse  University  "
      ]
     },
     "execution_count": 12,
     "metadata": {},
     "output_type": "execute_result"
    }
   ],
   "source": [
    "df.head(2)"
   ]
  },
  {
   "cell_type": "code",
   "execution_count": 13,
   "metadata": {
    "scrolled": true
   },
   "outputs": [
    {
     "data": {
      "text/html": [
       "<div>\n",
       "<style scoped>\n",
       "    .dataframe tbody tr th:only-of-type {\n",
       "        vertical-align: middle;\n",
       "    }\n",
       "\n",
       "    .dataframe tbody tr th {\n",
       "        vertical-align: top;\n",
       "    }\n",
       "\n",
       "    .dataframe thead th {\n",
       "        text-align: right;\n",
       "    }\n",
       "</style>\n",
       "<table border=\"1\" class=\"dataframe\">\n",
       "  <thead>\n",
       "    <tr style=\"text-align: right;\">\n",
       "      <th></th>\n",
       "      <th>State</th>\n",
       "      <th>Expiration_Date</th>\n",
       "      <th>Fee_Amount</th>\n",
       "      <th>Processing_Time_Days</th>\n",
       "      <th>Term_Length_Years</th>\n",
       "      <th>Most_Recent_Issuance_Date</th>\n",
       "      <th>Variance_Filed</th>\n",
       "      <th>Permit_Label</th>\n",
       "      <th>Agency_Type</th>\n",
       "    </tr>\n",
       "  </thead>\n",
       "  <tbody>\n",
       "    <tr>\n",
       "      <th>0</th>\n",
       "      <td>MA</td>\n",
       "      <td>2021-01-01</td>\n",
       "      <td>0.0</td>\n",
       "      <td>0.0</td>\n",
       "      <td>0.0</td>\n",
       "      <td>2014-03-07</td>\n",
       "      <td>Y</td>\n",
       "      <td>Plant_Animal</td>\n",
       "      <td>University</td>\n",
       "    </tr>\n",
       "    <tr>\n",
       "      <th>1</th>\n",
       "      <td>MA</td>\n",
       "      <td>2025-07-01</td>\n",
       "      <td>33835.0</td>\n",
       "      <td>0.0</td>\n",
       "      <td>5.0</td>\n",
       "      <td>2020-06-30</td>\n",
       "      <td>Y</td>\n",
       "      <td>Access_LandUse</td>\n",
       "      <td>University</td>\n",
       "    </tr>\n",
       "    <tr>\n",
       "      <th>2</th>\n",
       "      <td>MA</td>\n",
       "      <td>2043-02-09</td>\n",
       "      <td>0.0</td>\n",
       "      <td>0.0</td>\n",
       "      <td>30.0</td>\n",
       "      <td>2015-07-01</td>\n",
       "      <td>Y</td>\n",
       "      <td>Access_LandUse</td>\n",
       "      <td>University</td>\n",
       "    </tr>\n",
       "    <tr>\n",
       "      <th>3</th>\n",
       "      <td>MA</td>\n",
       "      <td>2020-12-31</td>\n",
       "      <td>0.0</td>\n",
       "      <td>0.0</td>\n",
       "      <td>0.0</td>\n",
       "      <td>2020-03-20</td>\n",
       "      <td>Y</td>\n",
       "      <td>Scientific_Permit</td>\n",
       "      <td>University</td>\n",
       "    </tr>\n",
       "    <tr>\n",
       "      <th>4</th>\n",
       "      <td>MA</td>\n",
       "      <td>2021-03-31</td>\n",
       "      <td>0.0</td>\n",
       "      <td>60.0</td>\n",
       "      <td>1.0</td>\n",
       "      <td>2020-02-25</td>\n",
       "      <td>Y</td>\n",
       "      <td>Scientific_Permit</td>\n",
       "      <td>StateAgency</td>\n",
       "    </tr>\n",
       "  </tbody>\n",
       "</table>\n",
       "</div>"
      ],
      "text/plain": [
       "  State Expiration_Date  Fee_Amount  Processing_Time_Days  Term_Length_Years  \\\n",
       "0    MA      2021-01-01         0.0                   0.0                0.0   \n",
       "1    MA      2025-07-01     33835.0                   0.0                5.0   \n",
       "2    MA      2043-02-09         0.0                   0.0               30.0   \n",
       "3    MA      2020-12-31         0.0                   0.0                0.0   \n",
       "4    MA      2021-03-31         0.0                  60.0                1.0   \n",
       "\n",
       "  Most_Recent_Issuance_Date Variance_Filed       Permit_Label  Agency_Type  \n",
       "0                2014-03-07              Y       Plant_Animal   University  \n",
       "1                2020-06-30              Y     Access_LandUse   University  \n",
       "2                2015-07-01              Y     Access_LandUse   University  \n",
       "3                2020-03-20              Y  Scientific_Permit   University  \n",
       "4                2020-02-25              Y  Scientific_Permit  StateAgency  "
      ]
     },
     "execution_count": 13,
     "metadata": {},
     "output_type": "execute_result"
    }
   ],
   "source": [
    "#Drop Duplicate and Unneccesary columns \n",
    "df = df.drop(columns = ['Permit_Type', \"Vendor_Name\",\"Vendor_Agency_Type\"])\n",
    "df.head()"
   ]
  },
  {
   "cell_type": "code",
   "execution_count": 14,
   "metadata": {},
   "outputs": [],
   "source": [
    "#convert \"Fee_Amount\" to a float\n",
    "df.Fee_Amount.value_counts()\n",
    "df['Fee_Amount'] = df['Fee_Amount'].astype(float)"
   ]
  },
  {
   "cell_type": "code",
   "execution_count": 15,
   "metadata": {},
   "outputs": [
    {
     "name": "stdout",
     "output_type": "stream",
     "text": [
      "<class 'pandas.core.frame.DataFrame'>\n",
      "RangeIndex: 235 entries, 0 to 234\n",
      "Data columns (total 9 columns):\n",
      " #   Column                     Non-Null Count  Dtype         \n",
      "---  ------                     --------------  -----         \n",
      " 0   State                      235 non-null    object        \n",
      " 1   Expiration_Date            192 non-null    datetime64[ns]\n",
      " 2   Fee_Amount                 235 non-null    float64       \n",
      " 3   Processing_Time_Days       235 non-null    float64       \n",
      " 4   Term_Length_Years          235 non-null    float64       \n",
      " 5   Most_Recent_Issuance_Date  201 non-null    datetime64[ns]\n",
      " 6   Variance_Filed             235 non-null    object        \n",
      " 7   Permit_Label               235 non-null    object        \n",
      " 8   Agency_Type                235 non-null    object        \n",
      "dtypes: datetime64[ns](2), float64(3), object(4)\n",
      "memory usage: 12.9+ KB\n"
     ]
    }
   ],
   "source": [
    "df.info()"
   ]
  },
  {
   "cell_type": "markdown",
   "metadata": {},
   "source": [
    "**Exploratory Data Analysis**"
   ]
  },
  {
   "cell_type": "code",
   "execution_count": 16,
   "metadata": {},
   "outputs": [
    {
     "data": {
      "text/plain": [
       "Text(0.5, 1.0, 'Permit Variances Files: 0-N, 1-Y')"
      ]
     },
     "execution_count": 16,
     "metadata": {},
     "output_type": "execute_result"
    },
    {
     "data": {
      "image/png": "[encoded data removed]",
      "text/plain": [
       "<Figure size 432x288 with 1 Axes>"
      ]
     },
     "metadata": {
      "needs_background": "light"
     },
     "output_type": "display_data"
    }
   ],
   "source": [
    "#compare 0,1 of \"Variance_Filed\"\n",
    "sns.countplot(x=\"Variance_Filed\", data=df)\n",
    "plt.title(\"Permit Variances Files: 0-N, 1-Y\")   "
   ]
  },
  {
   "cell_type": "code",
   "execution_count": 17,
   "metadata": {},
   "outputs": [
    {
     "data": {
      "text/plain": [
       "Text(0.5, 1.0, 'Permit Agency By Type')"
      ]
     },
     "execution_count": 17,
     "metadata": {},
     "output_type": "execute_result"
    },
    {
     "data": {
      "image/png": "[encoded data removed]",
      "text/plain": [
       "<Figure size 432x288 with 1 Axes>"
      ]
     },
     "metadata": {
      "needs_background": "light"
     },
     "output_type": "display_data"
    }
   ],
   "source": [
    "sns.countplot(x=\"Agency_Type\", data=df)\n",
    "plt.xticks(rotation=75)\n",
    "plt.title(\"Permit Agency By Type\")"
   ]
  },
  {
   "cell_type": "code",
   "execution_count": 18,
   "metadata": {
    "scrolled": false
   },
   "outputs": [
    {
     "name": "stderr",
     "output_type": "stream",
     "text": [
      "C:\\Users\\srubin\\Anaconda3\\lib\\site-packages\\seaborn\\categorical.py:1282: RuntimeWarning: invalid value encountered in less\n",
      "  off_low = points < low_gutter\n",
      "C:\\Users\\srubin\\Anaconda3\\lib\\site-packages\\seaborn\\categorical.py:1286: RuntimeWarning: invalid value encountered in greater\n",
      "  off_high = points > high_gutter\n",
      "C:\\Users\\srubin\\Anaconda3\\lib\\site-packages\\seaborn\\categorical.py:1296: UserWarning: 24.2% of the points cannot be placed; you may want to decrease the size of the markers or use stripplot.\n",
      "  warnings.warn(msg, UserWarning)\n",
      "C:\\Users\\srubin\\Anaconda3\\lib\\site-packages\\seaborn\\categorical.py:1296: UserWarning: 13.4% of the points cannot be placed; you may want to decrease the size of the markers or use stripplot.\n",
      "  warnings.warn(msg, UserWarning)\n"
     ]
    },
    {
     "data": {
      "text/plain": [
       "Text(0.5, 1.0, 'Distribution of Permits by Agency_Type vs Expiration_Date')"
      ]
     },
     "execution_count": 18,
     "metadata": {},
     "output_type": "execute_result"
    },
    {
     "data": {
      "image/png": "[encoded data removed]",
      "text/plain": [
       "<Figure size 432x288 with 1 Axes>"
      ]
     },
     "metadata": {
      "needs_background": "light"
     },
     "output_type": "display_data"
    }
   ],
   "source": [
    "sns.swarmplot(x=\"Agency_Type\", y='Expiration_Date', hue=\"Variance_Filed\", data=df)\n",
    "plt.title(\"Distribution of Permits by Agency_Type vs Expiration_Date\")"
   ]
  },
  {
   "cell_type": "code",
   "execution_count": 19,
   "metadata": {
    "scrolled": true
   },
   "outputs": [
    {
     "name": "stderr",
     "output_type": "stream",
     "text": [
      "C:\\Users\\srubin\\Anaconda3\\lib\\site-packages\\seaborn\\categorical.py:1282: RuntimeWarning: invalid value encountered in less\n",
      "  off_low = points < low_gutter\n",
      "C:\\Users\\srubin\\Anaconda3\\lib\\site-packages\\seaborn\\categorical.py:1286: RuntimeWarning: invalid value encountered in greater\n",
      "  off_high = points > high_gutter\n",
      "C:\\Users\\srubin\\Anaconda3\\lib\\site-packages\\seaborn\\categorical.py:1296: UserWarning: 9.1% of the points cannot be placed; you may want to decrease the size of the markers or use stripplot.\n",
      "  warnings.warn(msg, UserWarning)\n"
     ]
    },
    {
     "data": {
      "text/plain": [
       "Text(0.5, 1.0, 'Distribution of Permits by Agency_Type vs Most_Recent_Issuance_Date')"
      ]
     },
     "execution_count": 19,
     "metadata": {},
     "output_type": "execute_result"
    },
    {
     "data": {
      "image/png": "[encoded data removed]",
      "text/plain": [
       "<Figure size 432x288 with 1 Axes>"
      ]
     },
     "metadata": {
      "needs_background": "light"
     },
     "output_type": "display_data"
    }
   ],
   "source": [
    "sns.swarmplot(x=\"Agency_Type\", y='Most_Recent_Issuance_Date', hue=\"Variance_Filed\", data=df)\n",
    "plt.title(\"Distribution of Permits by Agency_Type vs Most_Recent_Issuance_Date\")"
   ]
  },
  {
   "cell_type": "code",
   "execution_count": 20,
   "metadata": {
    "scrolled": true
   },
   "outputs": [
    {
     "data": {
      "text/plain": [
       "Text(0.5, 1.0, 'Permit Distribution By State')"
      ]
     },
     "execution_count": 20,
     "metadata": {},
     "output_type": "execute_result"
    },
    {
     "data": {
      "image/png": "[encoded data removed]",
      "text/plain": [
       "<Figure size 432x288 with 1 Axes>"
      ]
     },
     "metadata": {
      "needs_background": "light"
     },
     "output_type": "display_data"
    }
   ],
   "source": [
    "sns.countplot(x=\"State\", data=df)\n",
    "plt.xticks(rotation=75)\n",
    "plt.title(\"Permit Distribution By State\")"
   ]
  },
  {
   "cell_type": "code",
   "execution_count": 21,
   "metadata": {
    "scrolled": true
   },
   "outputs": [
    {
     "name": "stderr",
     "output_type": "stream",
     "text": [
      "C:\\Users\\srubin\\Anaconda3\\lib\\site-packages\\seaborn\\categorical.py:1296: UserWarning: 32.1% of the points cannot be placed; you may want to decrease the size of the markers or use stripplot.\n",
      "  warnings.warn(msg, UserWarning)\n",
      "C:\\Users\\srubin\\Anaconda3\\lib\\site-packages\\seaborn\\categorical.py:1296: UserWarning: 37.9% of the points cannot be placed; you may want to decrease the size of the markers or use stripplot.\n",
      "  warnings.warn(msg, UserWarning)\n",
      "C:\\Users\\srubin\\Anaconda3\\lib\\site-packages\\seaborn\\categorical.py:1296: UserWarning: 14.6% of the points cannot be placed; you may want to decrease the size of the markers or use stripplot.\n",
      "  warnings.warn(msg, UserWarning)\n"
     ]
    },
    {
     "data": {
      "text/plain": [
       "Text(0.5, 1.0, 'Distribution of Permits by Agency_Type vs Term_Length_Year')"
      ]
     },
     "execution_count": 21,
     "metadata": {},
     "output_type": "execute_result"
    },
    {
     "data": {
      "image/png": "[encoded data removed]",
      "text/plain": [
       "<Figure size 432x288 with 1 Axes>"
      ]
     },
     "metadata": {
      "needs_background": "light"
     },
     "output_type": "display_data"
    }
   ],
   "source": [
    "sns.swarmplot(x=\"Agency_Type\",y = 'Term_Length_Years', hue = \"Variance_Filed\", data=df)\n",
    "plt.title('Distribution of Permits by Agency_Type vs Term_Length_Year')"
   ]
  },
  {
   "cell_type": "code",
   "execution_count": 22,
   "metadata": {},
   "outputs": [
    {
     "data": {
      "text/plain": [
       "Text(0.5, 1.0, 'Distribution of Permits Fee_Amount')"
      ]
     },
     "execution_count": 22,
     "metadata": {},
     "output_type": "execute_result"
    },
    {
     "data": {
      "image/png": "[encoded data removed]",
      "text/plain": [
       "<Figure size 432x288 with 1 Axes>"
      ]
     },
     "metadata": {
      "needs_background": "light"
     },
     "output_type": "display_data"
    }
   ],
   "source": [
    "#sns.histplot(x=\"Fee_Amount\", data=df, kde=True)\n",
    "plt.hist(df['Fee_Amount'], bins=30)\n",
    "plt.xlabel(\"Fee_Amount\")\n",
    "plt.ylabel(\"Count\")\n",
    "plt.title(\"Distribution of Permits Fee_Amount\")"
   ]
  },
  {
   "cell_type": "markdown",
   "metadata": {},
   "source": [
    "**Encoding Categorical Feature**\n",
    "\n",
    "*Agency_Type, Permit_Type, State, "
   ]
  },
  {
   "cell_type": "code",
   "execution_count": 23,
   "metadata": {},
   "outputs": [
    {
     "data": {
      "text/html": [
       "<div>\n",
       "<style scoped>\n",
       "    .dataframe tbody tr th:only-of-type {\n",
       "        vertical-align: middle;\n",
       "    }\n",
       "\n",
       "    .dataframe tbody tr th {\n",
       "        vertical-align: top;\n",
       "    }\n",
       "\n",
       "    .dataframe thead th {\n",
       "        text-align: right;\n",
       "    }\n",
       "</style>\n",
       "<table border=\"1\" class=\"dataframe\">\n",
       "  <thead>\n",
       "    <tr style=\"text-align: right;\">\n",
       "      <th></th>\n",
       "      <th>State</th>\n",
       "      <th>Expiration_Date</th>\n",
       "      <th>Fee_Amount</th>\n",
       "      <th>Processing_Time_Days</th>\n",
       "      <th>Term_Length_Years</th>\n",
       "      <th>Most_Recent_Issuance_Date</th>\n",
       "      <th>Variance_Filed</th>\n",
       "      <th>Permit_Label</th>\n",
       "      <th>Agency_Type</th>\n",
       "    </tr>\n",
       "  </thead>\n",
       "  <tbody>\n",
       "    <tr>\n",
       "      <th>0</th>\n",
       "      <td>MA</td>\n",
       "      <td>2021-01-01</td>\n",
       "      <td>0.0</td>\n",
       "      <td>0.0</td>\n",
       "      <td>0.0</td>\n",
       "      <td>2014-03-07</td>\n",
       "      <td>Y</td>\n",
       "      <td>Plant_Animal</td>\n",
       "      <td>University</td>\n",
       "    </tr>\n",
       "    <tr>\n",
       "      <th>1</th>\n",
       "      <td>MA</td>\n",
       "      <td>2025-07-01</td>\n",
       "      <td>33835.0</td>\n",
       "      <td>0.0</td>\n",
       "      <td>5.0</td>\n",
       "      <td>2020-06-30</td>\n",
       "      <td>Y</td>\n",
       "      <td>Access_LandUse</td>\n",
       "      <td>University</td>\n",
       "    </tr>\n",
       "  </tbody>\n",
       "</table>\n",
       "</div>"
      ],
      "text/plain": [
       "  State Expiration_Date  Fee_Amount  Processing_Time_Days  Term_Length_Years  \\\n",
       "0    MA      2021-01-01         0.0                   0.0                0.0   \n",
       "1    MA      2025-07-01     33835.0                   0.0                5.0   \n",
       "\n",
       "  Most_Recent_Issuance_Date Variance_Filed    Permit_Label Agency_Type  \n",
       "0                2014-03-07              Y    Plant_Animal  University  \n",
       "1                2020-06-30              Y  Access_LandUse  University  "
      ]
     },
     "execution_count": 23,
     "metadata": {},
     "output_type": "execute_result"
    }
   ],
   "source": [
    "df.head(2)"
   ]
  },
  {
   "cell_type": "code",
   "execution_count": 24,
   "metadata": {},
   "outputs": [
    {
     "data": {
      "text/plain": [
       "array(['MA', 'NH', 'VA', 'MD', 'GA', 'FL', 'PR', 'WI', 'MI', 'MI/WI',\n",
       "       'KS', 'TN', 'AL', 'AL ', 'ND', 'CO', 'OK', 'TX', 'UT', 'WY', 'NM',\n",
       "       'AZ', 'WA', 'OR', 'CA', 'AK', 'HI', 'HI ', 'All'], dtype=object)"
      ]
     },
     "execution_count": 24,
     "metadata": {},
     "output_type": "execute_result"
    }
   ],
   "source": [
    "df.State.unique()"
   ]
  },
  {
   "cell_type": "code",
   "execution_count": 25,
   "metadata": {
    "scrolled": false
   },
   "outputs": [
    {
     "data": {
      "text/plain": [
       "CentralTimeZone           73\n",
       "EasternTimeZone           64\n",
       "MountainTimeZone          46\n",
       "HawaiiAleutianTimeZone    23\n",
       "PacificTimeZone           22\n",
       "Progam_Wide                7\n",
       "Name: Time_Zone, dtype: int64"
      ]
     },
     "execution_count": 25,
     "metadata": {},
     "output_type": "execute_result"
    }
   ],
   "source": [
    "#encode State to appropriate timezones, drop \"State\" column\n",
    "PST = ['CA', 'OR','WA']\n",
    "HAI = ['HI','AK']\n",
    "MST = ['MT', 'WY','UT','CO','AZ','NM']\n",
    "CST = ['ND','WI','MI/WI','OK','KS','TN','AL','CO']\n",
    "EST = ['MI','NH','MA','MD','VA','GA','FL','PR']\n",
    "def state_cat(x):\n",
    "    if x in PST:\n",
    "        return \"PacificTimeZone\"\n",
    "    elif x in HAI:\n",
    "        return \"HawaiiAleutianTimeZone\"\n",
    "    elif x in MST:\n",
    "        return \"MountainTimeZone\"\n",
    "    elif x in CST:\n",
    "        return \"CentralTimeZone\"\n",
    "    elif x in EST:\n",
    "        return \"EasternTimeZone\"\n",
    "    else: return \"Progam_Wide\"\n",
    "df['Time_Zone'] = df['State'].apply(state_cat)\n",
    "df = df.drop(columns = ['State'])\n",
    "df.Time_Zone.value_counts()"
   ]
  },
  {
   "cell_type": "code",
   "execution_count": 26,
   "metadata": {},
   "outputs": [
    {
     "data": {
      "text/plain": [
       "Text(0.5, 1.0, 'Permits By Time_Zone')"
      ]
     },
     "execution_count": 26,
     "metadata": {},
     "output_type": "execute_result"
    },
    {
     "data": {
      "image/png": "[encoded data removed]",
      "text/plain": [
       "<Figure size 432x288 with 1 Axes>"
      ]
     },
     "metadata": {
      "needs_background": "light"
     },
     "output_type": "display_data"
    }
   ],
   "source": [
    "sns.countplot(x=\"Time_Zone\", data=df)\n",
    "plt.xticks(rotation=45)\n",
    "plt.title(\"Permits By Time_Zone\")"
   ]
  },
  {
   "cell_type": "code",
   "execution_count": 27,
   "metadata": {},
   "outputs": [],
   "source": [
    "df_agency = pd.get_dummies(df['Agency_Type'])\n",
    "df_permitType = pd.get_dummies(df['Permit_Label'])\n",
    "df_timeZone = pd.get_dummies(df['Time_Zone'])\n",
    "\n",
    "df_con = pd.concat([df, df_agency,df_permitType,df_timeZone ], axis=1)\n"
   ]
  },
  {
   "cell_type": "code",
   "execution_count": 28,
   "metadata": {
    "scrolled": false
   },
   "outputs": [
    {
     "data": {
      "text/html": [
       "<div>\n",
       "<style scoped>\n",
       "    .dataframe tbody tr th:only-of-type {\n",
       "        vertical-align: middle;\n",
       "    }\n",
       "\n",
       "    .dataframe tbody tr th {\n",
       "        vertical-align: top;\n",
       "    }\n",
       "\n",
       "    .dataframe thead th {\n",
       "        text-align: right;\n",
       "    }\n",
       "</style>\n",
       "<table border=\"1\" class=\"dataframe\">\n",
       "  <thead>\n",
       "    <tr style=\"text-align: right;\">\n",
       "      <th></th>\n",
       "      <th>Expiration_Date</th>\n",
       "      <th>Fee_Amount</th>\n",
       "      <th>Processing_Time_Days</th>\n",
       "      <th>Term_Length_Years</th>\n",
       "      <th>Most_Recent_Issuance_Date</th>\n",
       "      <th>Variance_Filed</th>\n",
       "      <th>Permit_Label</th>\n",
       "      <th>Agency_Type</th>\n",
       "      <th>Time_Zone</th>\n",
       "      <th>Federal</th>\n",
       "      <th>...</th>\n",
       "      <th>Access_LandUse</th>\n",
       "      <th>Facility_Lease</th>\n",
       "      <th>Plant_Animal</th>\n",
       "      <th>Scientific_Permit</th>\n",
       "      <th>CentralTimeZone</th>\n",
       "      <th>EasternTimeZone</th>\n",
       "      <th>HawaiiAleutianTimeZone</th>\n",
       "      <th>MountainTimeZone</th>\n",
       "      <th>PacificTimeZone</th>\n",
       "      <th>Progam_Wide</th>\n",
       "    </tr>\n",
       "  </thead>\n",
       "  <tbody>\n",
       "    <tr>\n",
       "      <th>0</th>\n",
       "      <td>2021-01-01</td>\n",
       "      <td>0.0</td>\n",
       "      <td>0.0</td>\n",
       "      <td>0.0</td>\n",
       "      <td>2014-03-07</td>\n",
       "      <td>Y</td>\n",
       "      <td>Plant_Animal</td>\n",
       "      <td>University</td>\n",
       "      <td>EasternTimeZone</td>\n",
       "      <td>0</td>\n",
       "      <td>...</td>\n",
       "      <td>0</td>\n",
       "      <td>0</td>\n",
       "      <td>1</td>\n",
       "      <td>0</td>\n",
       "      <td>0</td>\n",
       "      <td>1</td>\n",
       "      <td>0</td>\n",
       "      <td>0</td>\n",
       "      <td>0</td>\n",
       "      <td>0</td>\n",
       "    </tr>\n",
       "    <tr>\n",
       "      <th>1</th>\n",
       "      <td>2025-07-01</td>\n",
       "      <td>33835.0</td>\n",
       "      <td>0.0</td>\n",
       "      <td>5.0</td>\n",
       "      <td>2020-06-30</td>\n",
       "      <td>Y</td>\n",
       "      <td>Access_LandUse</td>\n",
       "      <td>University</td>\n",
       "      <td>EasternTimeZone</td>\n",
       "      <td>0</td>\n",
       "      <td>...</td>\n",
       "      <td>1</td>\n",
       "      <td>0</td>\n",
       "      <td>0</td>\n",
       "      <td>0</td>\n",
       "      <td>0</td>\n",
       "      <td>1</td>\n",
       "      <td>0</td>\n",
       "      <td>0</td>\n",
       "      <td>0</td>\n",
       "      <td>0</td>\n",
       "    </tr>\n",
       "    <tr>\n",
       "      <th>2</th>\n",
       "      <td>2043-02-09</td>\n",
       "      <td>0.0</td>\n",
       "      <td>0.0</td>\n",
       "      <td>30.0</td>\n",
       "      <td>2015-07-01</td>\n",
       "      <td>Y</td>\n",
       "      <td>Access_LandUse</td>\n",
       "      <td>University</td>\n",
       "      <td>EasternTimeZone</td>\n",
       "      <td>0</td>\n",
       "      <td>...</td>\n",
       "      <td>1</td>\n",
       "      <td>0</td>\n",
       "      <td>0</td>\n",
       "      <td>0</td>\n",
       "      <td>0</td>\n",
       "      <td>1</td>\n",
       "      <td>0</td>\n",
       "      <td>0</td>\n",
       "      <td>0</td>\n",
       "      <td>0</td>\n",
       "    </tr>\n",
       "    <tr>\n",
       "      <th>3</th>\n",
       "      <td>2020-12-31</td>\n",
       "      <td>0.0</td>\n",
       "      <td>0.0</td>\n",
       "      <td>0.0</td>\n",
       "      <td>2020-03-20</td>\n",
       "      <td>Y</td>\n",
       "      <td>Scientific_Permit</td>\n",
       "      <td>University</td>\n",
       "      <td>EasternTimeZone</td>\n",
       "      <td>0</td>\n",
       "      <td>...</td>\n",
       "      <td>0</td>\n",
       "      <td>0</td>\n",
       "      <td>0</td>\n",
       "      <td>1</td>\n",
       "      <td>0</td>\n",
       "      <td>1</td>\n",
       "      <td>0</td>\n",
       "      <td>0</td>\n",
       "      <td>0</td>\n",
       "      <td>0</td>\n",
       "    </tr>\n",
       "    <tr>\n",
       "      <th>4</th>\n",
       "      <td>2021-03-31</td>\n",
       "      <td>0.0</td>\n",
       "      <td>60.0</td>\n",
       "      <td>1.0</td>\n",
       "      <td>2020-02-25</td>\n",
       "      <td>Y</td>\n",
       "      <td>Scientific_Permit</td>\n",
       "      <td>StateAgency</td>\n",
       "      <td>EasternTimeZone</td>\n",
       "      <td>0</td>\n",
       "      <td>...</td>\n",
       "      <td>0</td>\n",
       "      <td>0</td>\n",
       "      <td>0</td>\n",
       "      <td>1</td>\n",
       "      <td>0</td>\n",
       "      <td>1</td>\n",
       "      <td>0</td>\n",
       "      <td>0</td>\n",
       "      <td>0</td>\n",
       "      <td>0</td>\n",
       "    </tr>\n",
       "  </tbody>\n",
       "</table>\n",
       "<p>5 rows × 23 columns</p>\n",
       "</div>"
      ],
      "text/plain": [
       "  Expiration_Date  Fee_Amount  Processing_Time_Days  Term_Length_Years  \\\n",
       "0      2021-01-01         0.0                   0.0                0.0   \n",
       "1      2025-07-01     33835.0                   0.0                5.0   \n",
       "2      2043-02-09         0.0                   0.0               30.0   \n",
       "3      2020-12-31         0.0                   0.0                0.0   \n",
       "4      2021-03-31         0.0                  60.0                1.0   \n",
       "\n",
       "  Most_Recent_Issuance_Date Variance_Filed       Permit_Label  Agency_Type  \\\n",
       "0                2014-03-07              Y       Plant_Animal   University   \n",
       "1                2020-06-30              Y     Access_LandUse   University   \n",
       "2                2015-07-01              Y     Access_LandUse   University   \n",
       "3                2020-03-20              Y  Scientific_Permit   University   \n",
       "4                2020-02-25              Y  Scientific_Permit  StateAgency   \n",
       "\n",
       "         Time_Zone  Federal  ...  Access_LandUse  Facility_Lease  \\\n",
       "0  EasternTimeZone        0  ...               0               0   \n",
       "1  EasternTimeZone        0  ...               1               0   \n",
       "2  EasternTimeZone        0  ...               1               0   \n",
       "3  EasternTimeZone        0  ...               0               0   \n",
       "4  EasternTimeZone        0  ...               0               0   \n",
       "\n",
       "   Plant_Animal  Scientific_Permit  CentralTimeZone  EasternTimeZone  \\\n",
       "0             1                  0                0                1   \n",
       "1             0                  0                0                1   \n",
       "2             0                  0                0                1   \n",
       "3             0                  1                0                1   \n",
       "4             0                  1                0                1   \n",
       "\n",
       "   HawaiiAleutianTimeZone  MountainTimeZone  PacificTimeZone  Progam_Wide  \n",
       "0                       0                 0                0            0  \n",
       "1                       0                 0                0            0  \n",
       "2                       0                 0                0            0  \n",
       "3                       0                 0                0            0  \n",
       "4                       0                 0                0            0  \n",
       "\n",
       "[5 rows x 23 columns]"
      ]
     },
     "execution_count": 28,
     "metadata": {},
     "output_type": "execute_result"
    }
   ],
   "source": [
    "df_con.head()"
   ]
  },
  {
   "cell_type": "code",
   "execution_count": 29,
   "metadata": {
    "scrolled": false
   },
   "outputs": [
    {
     "name": "stdout",
     "output_type": "stream",
     "text": [
      "New dataframe shape: (235, 18)\n"
     ]
    },
    {
     "data": {
      "text/html": [
       "<div>\n",
       "<style scoped>\n",
       "    .dataframe tbody tr th:only-of-type {\n",
       "        vertical-align: middle;\n",
       "    }\n",
       "\n",
       "    .dataframe tbody tr th {\n",
       "        vertical-align: top;\n",
       "    }\n",
       "\n",
       "    .dataframe thead th {\n",
       "        text-align: right;\n",
       "    }\n",
       "</style>\n",
       "<table border=\"1\" class=\"dataframe\">\n",
       "  <thead>\n",
       "    <tr style=\"text-align: right;\">\n",
       "      <th></th>\n",
       "      <th>Fee_Amount</th>\n",
       "      <th>Processing_Time_Days</th>\n",
       "      <th>Term_Length_Years</th>\n",
       "      <th>Variance_Filed</th>\n",
       "      <th>Federal</th>\n",
       "      <th>Local</th>\n",
       "      <th>StateAgency</th>\n",
       "      <th>University</th>\n",
       "      <th>Access_LandUse</th>\n",
       "      <th>Facility_Lease</th>\n",
       "      <th>Plant_Animal</th>\n",
       "      <th>Scientific_Permit</th>\n",
       "      <th>CentralTimeZone</th>\n",
       "      <th>EasternTimeZone</th>\n",
       "      <th>HawaiiAleutianTimeZone</th>\n",
       "      <th>MountainTimeZone</th>\n",
       "      <th>PacificTimeZone</th>\n",
       "      <th>Progam_Wide</th>\n",
       "    </tr>\n",
       "  </thead>\n",
       "  <tbody>\n",
       "    <tr>\n",
       "      <th>0</th>\n",
       "      <td>0.0</td>\n",
       "      <td>0.0</td>\n",
       "      <td>0.0</td>\n",
       "      <td>Y</td>\n",
       "      <td>0</td>\n",
       "      <td>0</td>\n",
       "      <td>0</td>\n",
       "      <td>1</td>\n",
       "      <td>0</td>\n",
       "      <td>0</td>\n",
       "      <td>1</td>\n",
       "      <td>0</td>\n",
       "      <td>0</td>\n",
       "      <td>1</td>\n",
       "      <td>0</td>\n",
       "      <td>0</td>\n",
       "      <td>0</td>\n",
       "      <td>0</td>\n",
       "    </tr>\n",
       "    <tr>\n",
       "      <th>1</th>\n",
       "      <td>33835.0</td>\n",
       "      <td>0.0</td>\n",
       "      <td>5.0</td>\n",
       "      <td>Y</td>\n",
       "      <td>0</td>\n",
       "      <td>0</td>\n",
       "      <td>0</td>\n",
       "      <td>1</td>\n",
       "      <td>1</td>\n",
       "      <td>0</td>\n",
       "      <td>0</td>\n",
       "      <td>0</td>\n",
       "      <td>0</td>\n",
       "      <td>1</td>\n",
       "      <td>0</td>\n",
       "      <td>0</td>\n",
       "      <td>0</td>\n",
       "      <td>0</td>\n",
       "    </tr>\n",
       "    <tr>\n",
       "      <th>2</th>\n",
       "      <td>0.0</td>\n",
       "      <td>0.0</td>\n",
       "      <td>30.0</td>\n",
       "      <td>Y</td>\n",
       "      <td>0</td>\n",
       "      <td>0</td>\n",
       "      <td>0</td>\n",
       "      <td>1</td>\n",
       "      <td>1</td>\n",
       "      <td>0</td>\n",
       "      <td>0</td>\n",
       "      <td>0</td>\n",
       "      <td>0</td>\n",
       "      <td>1</td>\n",
       "      <td>0</td>\n",
       "      <td>0</td>\n",
       "      <td>0</td>\n",
       "      <td>0</td>\n",
       "    </tr>\n",
       "    <tr>\n",
       "      <th>3</th>\n",
       "      <td>0.0</td>\n",
       "      <td>0.0</td>\n",
       "      <td>0.0</td>\n",
       "      <td>Y</td>\n",
       "      <td>0</td>\n",
       "      <td>0</td>\n",
       "      <td>0</td>\n",
       "      <td>1</td>\n",
       "      <td>0</td>\n",
       "      <td>0</td>\n",
       "      <td>0</td>\n",
       "      <td>1</td>\n",
       "      <td>0</td>\n",
       "      <td>1</td>\n",
       "      <td>0</td>\n",
       "      <td>0</td>\n",
       "      <td>0</td>\n",
       "      <td>0</td>\n",
       "    </tr>\n",
       "    <tr>\n",
       "      <th>4</th>\n",
       "      <td>0.0</td>\n",
       "      <td>60.0</td>\n",
       "      <td>1.0</td>\n",
       "      <td>Y</td>\n",
       "      <td>0</td>\n",
       "      <td>0</td>\n",
       "      <td>1</td>\n",
       "      <td>0</td>\n",
       "      <td>0</td>\n",
       "      <td>0</td>\n",
       "      <td>0</td>\n",
       "      <td>1</td>\n",
       "      <td>0</td>\n",
       "      <td>1</td>\n",
       "      <td>0</td>\n",
       "      <td>0</td>\n",
       "      <td>0</td>\n",
       "      <td>0</td>\n",
       "    </tr>\n",
       "  </tbody>\n",
       "</table>\n",
       "</div>"
      ],
      "text/plain": [
       "   Fee_Amount  Processing_Time_Days  Term_Length_Years Variance_Filed  \\\n",
       "0         0.0                   0.0                0.0              Y   \n",
       "1     33835.0                   0.0                5.0              Y   \n",
       "2         0.0                   0.0               30.0              Y   \n",
       "3         0.0                   0.0                0.0              Y   \n",
       "4         0.0                  60.0                1.0              Y   \n",
       "\n",
       "   Federal  Local  StateAgency  University  Access_LandUse  Facility_Lease  \\\n",
       "0        0      0            0           1               0               0   \n",
       "1        0      0            0           1               1               0   \n",
       "2        0      0            0           1               1               0   \n",
       "3        0      0            0           1               0               0   \n",
       "4        0      0            1           0               0               0   \n",
       "\n",
       "   Plant_Animal  Scientific_Permit  CentralTimeZone  EasternTimeZone  \\\n",
       "0             1                  0                0                1   \n",
       "1             0                  0                0                1   \n",
       "2             0                  0                0                1   \n",
       "3             0                  1                0                1   \n",
       "4             0                  1                0                1   \n",
       "\n",
       "   HawaiiAleutianTimeZone  MountainTimeZone  PacificTimeZone  Progam_Wide  \n",
       "0                       0                 0                0            0  \n",
       "1                       0                 0                0            0  \n",
       "2                       0                 0                0            0  \n",
       "3                       0                 0                0            0  \n",
       "4                       0                 0                0            0  "
      ]
     },
     "execution_count": 29,
     "metadata": {},
     "output_type": "execute_result"
    }
   ],
   "source": [
    "df = df_con.drop(columns=['Agency_Type','Permit_Label','Time_Zone','Expiration_Date','Most_Recent_Issuance_Date'])\n",
    "\n",
    "print(\"New dataframe shape: \" + str(df.shape))\n",
    "df.head()"
   ]
  },
  {
   "cell_type": "markdown",
   "metadata": {},
   "source": [
    "**Scaling Features**\n",
    "\n",
    "*Fee_Amount, Processing_Time_Days, Term_Length_Years*"
   ]
  },
  {
   "cell_type": "code",
   "execution_count": 30,
   "metadata": {},
   "outputs": [],
   "source": [
    "from sklearn import preprocessing \n",
    "scaler = preprocessing.MinMaxScaler()\n",
    "df[['Fee_Amount']] = scaler.fit_transform(df[['Fee_Amount']])"
   ]
  },
  {
   "cell_type": "code",
   "execution_count": 31,
   "metadata": {
    "scrolled": false
   },
   "outputs": [
    {
     "data": {
      "text/html": [
       "<div>\n",
       "<style scoped>\n",
       "    .dataframe tbody tr th:only-of-type {\n",
       "        vertical-align: middle;\n",
       "    }\n",
       "\n",
       "    .dataframe tbody tr th {\n",
       "        vertical-align: top;\n",
       "    }\n",
       "\n",
       "    .dataframe thead th {\n",
       "        text-align: right;\n",
       "    }\n",
       "</style>\n",
       "<table border=\"1\" class=\"dataframe\">\n",
       "  <thead>\n",
       "    <tr style=\"text-align: right;\">\n",
       "      <th></th>\n",
       "      <th>Fee_Amount</th>\n",
       "      <th>Processing_Time_Days</th>\n",
       "      <th>Term_Length_Years</th>\n",
       "      <th>Variance_Filed</th>\n",
       "      <th>Federal</th>\n",
       "      <th>Local</th>\n",
       "      <th>StateAgency</th>\n",
       "      <th>University</th>\n",
       "      <th>Access_LandUse</th>\n",
       "      <th>Facility_Lease</th>\n",
       "      <th>Plant_Animal</th>\n",
       "      <th>Scientific_Permit</th>\n",
       "      <th>CentralTimeZone</th>\n",
       "      <th>EasternTimeZone</th>\n",
       "      <th>HawaiiAleutianTimeZone</th>\n",
       "      <th>MountainTimeZone</th>\n",
       "      <th>PacificTimeZone</th>\n",
       "      <th>Progam_Wide</th>\n",
       "    </tr>\n",
       "  </thead>\n",
       "  <tbody>\n",
       "    <tr>\n",
       "      <th>0</th>\n",
       "      <td>0.000000</td>\n",
       "      <td>0.000000</td>\n",
       "      <td>0.000</td>\n",
       "      <td>Y</td>\n",
       "      <td>0</td>\n",
       "      <td>0</td>\n",
       "      <td>0</td>\n",
       "      <td>1</td>\n",
       "      <td>0</td>\n",
       "      <td>0</td>\n",
       "      <td>1</td>\n",
       "      <td>0</td>\n",
       "      <td>0</td>\n",
       "      <td>1</td>\n",
       "      <td>0</td>\n",
       "      <td>0</td>\n",
       "      <td>0</td>\n",
       "      <td>0</td>\n",
       "    </tr>\n",
       "    <tr>\n",
       "      <th>1</th>\n",
       "      <td>1.000000</td>\n",
       "      <td>0.000000</td>\n",
       "      <td>0.125</td>\n",
       "      <td>Y</td>\n",
       "      <td>0</td>\n",
       "      <td>0</td>\n",
       "      <td>0</td>\n",
       "      <td>1</td>\n",
       "      <td>1</td>\n",
       "      <td>0</td>\n",
       "      <td>0</td>\n",
       "      <td>0</td>\n",
       "      <td>0</td>\n",
       "      <td>1</td>\n",
       "      <td>0</td>\n",
       "      <td>0</td>\n",
       "      <td>0</td>\n",
       "      <td>0</td>\n",
       "    </tr>\n",
       "    <tr>\n",
       "      <th>2</th>\n",
       "      <td>0.000000</td>\n",
       "      <td>0.000000</td>\n",
       "      <td>0.750</td>\n",
       "      <td>Y</td>\n",
       "      <td>0</td>\n",
       "      <td>0</td>\n",
       "      <td>0</td>\n",
       "      <td>1</td>\n",
       "      <td>1</td>\n",
       "      <td>0</td>\n",
       "      <td>0</td>\n",
       "      <td>0</td>\n",
       "      <td>0</td>\n",
       "      <td>1</td>\n",
       "      <td>0</td>\n",
       "      <td>0</td>\n",
       "      <td>0</td>\n",
       "      <td>0</td>\n",
       "    </tr>\n",
       "    <tr>\n",
       "      <th>3</th>\n",
       "      <td>0.000000</td>\n",
       "      <td>0.000000</td>\n",
       "      <td>0.000</td>\n",
       "      <td>Y</td>\n",
       "      <td>0</td>\n",
       "      <td>0</td>\n",
       "      <td>0</td>\n",
       "      <td>1</td>\n",
       "      <td>0</td>\n",
       "      <td>0</td>\n",
       "      <td>0</td>\n",
       "      <td>1</td>\n",
       "      <td>0</td>\n",
       "      <td>1</td>\n",
       "      <td>0</td>\n",
       "      <td>0</td>\n",
       "      <td>0</td>\n",
       "      <td>0</td>\n",
       "    </tr>\n",
       "    <tr>\n",
       "      <th>4</th>\n",
       "      <td>0.000000</td>\n",
       "      <td>0.329670</td>\n",
       "      <td>0.025</td>\n",
       "      <td>Y</td>\n",
       "      <td>0</td>\n",
       "      <td>0</td>\n",
       "      <td>1</td>\n",
       "      <td>0</td>\n",
       "      <td>0</td>\n",
       "      <td>0</td>\n",
       "      <td>0</td>\n",
       "      <td>1</td>\n",
       "      <td>0</td>\n",
       "      <td>1</td>\n",
       "      <td>0</td>\n",
       "      <td>0</td>\n",
       "      <td>0</td>\n",
       "      <td>0</td>\n",
       "    </tr>\n",
       "    <tr>\n",
       "      <th>5</th>\n",
       "      <td>0.002039</td>\n",
       "      <td>0.989011</td>\n",
       "      <td>0.250</td>\n",
       "      <td>N</td>\n",
       "      <td>1</td>\n",
       "      <td>0</td>\n",
       "      <td>0</td>\n",
       "      <td>0</td>\n",
       "      <td>1</td>\n",
       "      <td>0</td>\n",
       "      <td>0</td>\n",
       "      <td>0</td>\n",
       "      <td>0</td>\n",
       "      <td>1</td>\n",
       "      <td>0</td>\n",
       "      <td>0</td>\n",
       "      <td>0</td>\n",
       "      <td>0</td>\n",
       "    </tr>\n",
       "    <tr>\n",
       "      <th>6</th>\n",
       "      <td>0.000000</td>\n",
       "      <td>0.000000</td>\n",
       "      <td>0.075</td>\n",
       "      <td>N</td>\n",
       "      <td>0</td>\n",
       "      <td>0</td>\n",
       "      <td>1</td>\n",
       "      <td>0</td>\n",
       "      <td>0</td>\n",
       "      <td>0</td>\n",
       "      <td>0</td>\n",
       "      <td>1</td>\n",
       "      <td>0</td>\n",
       "      <td>1</td>\n",
       "      <td>0</td>\n",
       "      <td>0</td>\n",
       "      <td>0</td>\n",
       "      <td>0</td>\n",
       "    </tr>\n",
       "    <tr>\n",
       "      <th>7</th>\n",
       "      <td>0.000000</td>\n",
       "      <td>0.164835</td>\n",
       "      <td>0.025</td>\n",
       "      <td>Y</td>\n",
       "      <td>0</td>\n",
       "      <td>0</td>\n",
       "      <td>1</td>\n",
       "      <td>0</td>\n",
       "      <td>0</td>\n",
       "      <td>0</td>\n",
       "      <td>0</td>\n",
       "      <td>1</td>\n",
       "      <td>0</td>\n",
       "      <td>1</td>\n",
       "      <td>0</td>\n",
       "      <td>0</td>\n",
       "      <td>0</td>\n",
       "      <td>0</td>\n",
       "    </tr>\n",
       "    <tr>\n",
       "      <th>8</th>\n",
       "      <td>0.000000</td>\n",
       "      <td>0.164835</td>\n",
       "      <td>0.025</td>\n",
       "      <td>Y</td>\n",
       "      <td>0</td>\n",
       "      <td>0</td>\n",
       "      <td>1</td>\n",
       "      <td>0</td>\n",
       "      <td>0</td>\n",
       "      <td>0</td>\n",
       "      <td>0</td>\n",
       "      <td>1</td>\n",
       "      <td>0</td>\n",
       "      <td>1</td>\n",
       "      <td>0</td>\n",
       "      <td>0</td>\n",
       "      <td>0</td>\n",
       "      <td>0</td>\n",
       "    </tr>\n",
       "    <tr>\n",
       "      <th>9</th>\n",
       "      <td>0.000000</td>\n",
       "      <td>0.164835</td>\n",
       "      <td>0.025</td>\n",
       "      <td>Y</td>\n",
       "      <td>0</td>\n",
       "      <td>0</td>\n",
       "      <td>1</td>\n",
       "      <td>0</td>\n",
       "      <td>0</td>\n",
       "      <td>0</td>\n",
       "      <td>0</td>\n",
       "      <td>1</td>\n",
       "      <td>0</td>\n",
       "      <td>1</td>\n",
       "      <td>0</td>\n",
       "      <td>0</td>\n",
       "      <td>0</td>\n",
       "      <td>0</td>\n",
       "    </tr>\n",
       "  </tbody>\n",
       "</table>\n",
       "</div>"
      ],
      "text/plain": [
       "   Fee_Amount  Processing_Time_Days  Term_Length_Years Variance_Filed  \\\n",
       "0    0.000000              0.000000              0.000              Y   \n",
       "1    1.000000              0.000000              0.125              Y   \n",
       "2    0.000000              0.000000              0.750              Y   \n",
       "3    0.000000              0.000000              0.000              Y   \n",
       "4    0.000000              0.329670              0.025              Y   \n",
       "5    0.002039              0.989011              0.250              N   \n",
       "6    0.000000              0.000000              0.075              N   \n",
       "7    0.000000              0.164835              0.025              Y   \n",
       "8    0.000000              0.164835              0.025              Y   \n",
       "9    0.000000              0.164835              0.025              Y   \n",
       "\n",
       "   Federal  Local  StateAgency  University  Access_LandUse  Facility_Lease  \\\n",
       "0        0      0            0           1               0               0   \n",
       "1        0      0            0           1               1               0   \n",
       "2        0      0            0           1               1               0   \n",
       "3        0      0            0           1               0               0   \n",
       "4        0      0            1           0               0               0   \n",
       "5        1      0            0           0               1               0   \n",
       "6        0      0            1           0               0               0   \n",
       "7        0      0            1           0               0               0   \n",
       "8        0      0            1           0               0               0   \n",
       "9        0      0            1           0               0               0   \n",
       "\n",
       "   Plant_Animal  Scientific_Permit  CentralTimeZone  EasternTimeZone  \\\n",
       "0             1                  0                0                1   \n",
       "1             0                  0                0                1   \n",
       "2             0                  0                0                1   \n",
       "3             0                  1                0                1   \n",
       "4             0                  1                0                1   \n",
       "5             0                  0                0                1   \n",
       "6             0                  1                0                1   \n",
       "7             0                  1                0                1   \n",
       "8             0                  1                0                1   \n",
       "9             0                  1                0                1   \n",
       "\n",
       "   HawaiiAleutianTimeZone  MountainTimeZone  PacificTimeZone  Progam_Wide  \n",
       "0                       0                 0                0            0  \n",
       "1                       0                 0                0            0  \n",
       "2                       0                 0                0            0  \n",
       "3                       0                 0                0            0  \n",
       "4                       0                 0                0            0  \n",
       "5                       0                 0                0            0  \n",
       "6                       0                 0                0            0  \n",
       "7                       0                 0                0            0  \n",
       "8                       0                 0                0            0  \n",
       "9                       0                 0                0            0  "
      ]
     },
     "execution_count": 31,
     "metadata": {},
     "output_type": "execute_result"
    }
   ],
   "source": [
    "df.head(10)"
   ]
  },
  {
   "cell_type": "code",
   "execution_count": 40,
   "metadata": {},
   "outputs": [
    {
     "name": "stdout",
     "output_type": "stream",
     "text": [
      "Counter({0: 5000, 1: 5000})\n",
      "Counter({0: 5000, 1: 5000})\n"
     ]
    }
   ],
   "source": [
    "#Balancing The Dataset\n",
    "from imblearn.over_sampling import SMOTE\n",
    "from sklearn.datasets import make_classification\n",
    "\n",
    "\n",
    "X, y = make_classification(n_samples=10000, n_features=2, n_redundant=0,\n",
    "                           n_clusters_per_class=1, flip_y=0, random_state=1)\n",
    "\n",
    "counter = Counter(y)\n",
    "print(counter)\n",
    "\n",
    "oversample = SMOTE()\n",
    "X,y = oversample.fit_sample(X,y)\n",
    "\n",
    "counter = Counter(y)\n",
    "print(counter)"
   ]
  },
  {
   "cell_type": "code",
   "execution_count": 47,
   "metadata": {},
   "outputs": [
    {
     "name": "stdout",
     "output_type": "stream",
     "text": [
      "Permit Variance_Filed Ratio: \n",
      "N    181\n",
      "Y     54\n",
      "Name: Variance_Filed, dtype: int64\n",
      " \n",
      "% 1-Variance Filed: 0.2297872340425532\n"
     ]
    }
   ],
   "source": [
    "print(\"Permit Variance_Filed Ratio: \")\n",
    "print(df.Variance_Filed.value_counts())\n",
    "print(\" \")\n",
    "print(\"% 1-Variance Filed: \" + str(54/len(df.Variance_Filed)))"
   ]
  },
  {
   "cell_type": "markdown",
   "metadata": {},
   "source": [
    "**Model Selection & Building**"
   ]
  },
  {
   "cell_type": "markdown",
   "metadata": {},
   "source": [
    "*Logistic Regression*"
   ]
  },
  {
   "cell_type": "code",
   "execution_count": 49,
   "metadata": {
    "scrolled": false
   },
   "outputs": [
    {
     "name": "stdout",
     "output_type": "stream",
     "text": [
      "Logistic Regression Accuracy Score: 0.7887323943661971\n",
      " \n",
      "              precision    recall  f1-score   support\n",
      "\n",
      "           N       0.80      0.98      0.88        56\n",
      "           Y       0.50      0.07      0.12        15\n",
      "\n",
      "    accuracy                           0.79        71\n",
      "   macro avg       0.65      0.52      0.50        71\n",
      "weighted avg       0.73      0.79      0.72        71\n",
      "\n",
      " \n",
      "[[55  1]\n",
      " [14  1]]\n"
     ]
    },
    {
     "data": {
      "text/plain": [
       "<sklearn.metrics._plot.confusion_matrix.ConfusionMatrixDisplay at 0xa8b6e50>"
      ]
     },
     "execution_count": 49,
     "metadata": {},
     "output_type": "execute_result"
    },
    {
     "data": {
      "image/png": "[encoded data removed]",
      "text/plain": [
       "<Figure size 432x288 with 2 Axes>"
      ]
     },
     "metadata": {
      "needs_background": "light"
     },
     "output_type": "display_data"
    }
   ],
   "source": [
    "from sklearn.model_selection import train_test_split\n",
    "from sklearn.linear_model import LogisticRegression\n",
    "from sklearn.metrics import accuracy_score, classification_report, confusion_matrix\n",
    "from sklearn.metrics import plot_confusion_matrix\n",
    "\n",
    "X = df.loc[:,df.columns != \"Variance_Filed\"]\n",
    "y = df['Variance_Filed']\n",
    "\n",
    "X_train, X_test, y_train, y_test = train_test_split(X, y, test_size =0.3, random_state=42)\n",
    "logReg = LogisticRegression()\n",
    "\n",
    "# Fit the model on the trainng data.\n",
    "logReg.fit(X_train, y_train)\n",
    "predictions = logReg.predict(X_test)\n",
    "\n",
    "# Print the accuracy from the testing data.\n",
    "print(\"Logistic Regression Accuracy Score: \" + str(accuracy_score(clf.predict(X_test), y_test)))\n",
    "print(\" \")\n",
    "#Print classification report and confusion matrix\n",
    "print(classification_report(y_test, predictions))\n",
    "print(\" \")\n",
    "print(confusion_matrix(y_test, predictions))\n",
    "\n",
    "plot_confusion_matrix(logReg, X_test, y_test)"
   ]
  },
  {
   "cell_type": "code",
   "execution_count": 66,
   "metadata": {},
   "outputs": [
    {
     "name": "stdout",
     "output_type": "stream",
     "text": [
      "Feature: 0, Score: 0.18646\n",
      "Feature: 1, Score: -0.04826\n",
      "Feature: 2, Score: -0.79779\n",
      "Feature: 3, Score: 0.49952\n",
      "Feature: 4, Score: -0.03265\n",
      "Feature: 5, Score: -0.26896\n",
      "Feature: 6, Score: -0.19791\n",
      "Feature: 7, Score: 0.89707\n",
      "Feature: 8, Score: -1.04780\n",
      "Feature: 9, Score: 0.07549\n",
      "Feature: 10, Score: 0.07523\n",
      "Feature: 11, Score: -0.88120\n",
      "Feature: 12, Score: 1.03788\n",
      "Feature: 13, Score: -0.26014\n",
      "Feature: 14, Score: -0.07251\n",
      "Feature: 15, Score: -0.02762\n",
      "Feature: 16, Score: 0.20360\n"
     ]
    },
    {
     "data": {
      "text/plain": [
       "Text(0.5, 1.0, 'Logistic Regression Feature Importance')"
      ]
     },
     "execution_count": 66,
     "metadata": {},
     "output_type": "execute_result"
    },
    {
     "data": {
      "image/png": "[encoded data removed]",
      "text/plain": [
       "<Figure size 432x288 with 1 Axes>"
      ]
     },
     "metadata": {
      "needs_background": "light"
     },
     "output_type": "display_data"
    }
   ],
   "source": [
    "#Logistic Regression Feature Importance\n",
    "importance_logReg = logReg.coef_[0]\n",
    "for i,v in enumerate(importance_logReg):\n",
    "    print('Feature: %0d, Score: %.5f' % (i,v))\n",
    "\n",
    "plt.bar([x for x in range(len(importance_logReg))], importance_logReg)\n",
    "plt.xticks(np.arange(0,17, 1))\n",
    "plt.xlabel(\"Features\")\n",
    "plt.ylabel(\"Feature Importance\")\n",
    "plt.title(\"Logistic Regression Feature Importance\")"
   ]
  },
  {
   "cell_type": "code",
   "execution_count": 51,
   "metadata": {
    "scrolled": true
   },
   "outputs": [
    {
     "name": "stdout",
     "output_type": "stream",
     "text": [
      "Best Parameters: {'C': 0.0001}\n",
      "Best score: 0.7702127659574468\n"
     ]
    },
    {
     "name": "stderr",
     "output_type": "stream",
     "text": [
      "C:\\Users\\srubin\\Anaconda3\\lib\\site-packages\\sklearn\\linear_model\\_logistic.py:765: ConvergenceWarning: lbfgs failed to converge (status=1):\n",
      "STOP: TOTAL NO. of ITERATIONS REACHED LIMIT.\n",
      "\n",
      "Increase the number of iterations (max_iter) or scale the data as shown in:\n",
      "    https://scikit-learn.org/stable/modules/preprocessing.html\n",
      "Please also refer to the documentation for alternative solver options:\n",
      "    https://scikit-learn.org/stable/modules/linear_model.html#logistic-regression\n",
      "  extra_warning_msg=_LOGISTIC_SOLVER_CONVERGENCE_MSG)\n",
      "C:\\Users\\srubin\\Anaconda3\\lib\\site-packages\\sklearn\\linear_model\\_logistic.py:765: ConvergenceWarning: lbfgs failed to converge (status=1):\n",
      "STOP: TOTAL NO. of ITERATIONS REACHED LIMIT.\n",
      "\n",
      "Increase the number of iterations (max_iter) or scale the data as shown in:\n",
      "    https://scikit-learn.org/stable/modules/preprocessing.html\n",
      "Please also refer to the documentation for alternative solver options:\n",
      "    https://scikit-learn.org/stable/modules/linear_model.html#logistic-regression\n",
      "  extra_warning_msg=_LOGISTIC_SOLVER_CONVERGENCE_MSG)\n"
     ]
    }
   ],
   "source": [
    "#Logistic Regression param_grid, GridSearchCV\n",
    "from sklearn.model_selection import GridSearchCV\n",
    "\n",
    "c_space = np.logspace(-4,4,10)\n",
    "param_grid = {'C': c_space}\n",
    "\n",
    "gridSearchCV = GridSearchCV(clf, param_grid, cv=5)\n",
    "gridSearchCV.fit(X,y)\n",
    "\n",
    "print(\"Best Parameters: \" + str(gridSearchCV.best_params_))\n",
    "print(\"Best score: \" + str(gridSearchCV.best_score_))"
   ]
  },
  {
   "cell_type": "markdown",
   "metadata": {},
   "source": [
    "*KNN*"
   ]
  },
  {
   "cell_type": "code",
   "execution_count": 69,
   "metadata": {},
   "outputs": [
    {
     "name": "stdout",
     "output_type": "stream",
     "text": [
      "KNN Accuracy Score: 0.676056338028169\n"
     ]
    }
   ],
   "source": [
    "from sklearn.neighbors import KNeighborsClassifier \n",
    "knn = KNeighborsClassifier(n_neighbors=1) \n",
    "knn.fit(X_train, y_train) \n",
    "\n",
    "y_pred = knn.predict(X_test)\n",
    "\n",
    "from sklearn import metrics \n",
    "print(\"KNN Accuracy Score:\", metrics.accuracy_score(y_test, y_pred))"
   ]
  },
  {
   "cell_type": "code",
   "execution_count": 70,
   "metadata": {
    "scrolled": true
   },
   "outputs": [
    {
     "name": "stdout",
     "output_type": "stream",
     "text": [
      "KNN Accuracy Score: 0.676056338028169\n",
      " \n",
      "              precision    recall  f1-score   support\n",
      "\n",
      "           N       0.80      0.79      0.79        56\n",
      "           Y       0.25      0.27      0.26        15\n",
      "\n",
      "    accuracy                           0.68        71\n",
      "   macro avg       0.53      0.53      0.53        71\n",
      "weighted avg       0.68      0.68      0.68        71\n",
      "\n",
      " \n",
      "[[44 12]\n",
      " [11  4]]\n"
     ]
    },
    {
     "data": {
      "text/plain": [
       "<sklearn.metrics._plot.confusion_matrix.ConfusionMatrixDisplay at 0x12b0730>"
      ]
     },
     "execution_count": 70,
     "metadata": {},
     "output_type": "execute_result"
    },
    {
     "data": {
      "image/png": "[encoded data removed]",
      "text/plain": [
       "<Figure size 432x288 with 2 Axes>"
      ]
     },
     "metadata": {
      "needs_background": "light"
     },
     "output_type": "display_data"
    }
   ],
   "source": [
    "# Print the accuracy from the testing data.\n",
    "print(\"KNN Accuracy Score: \" + str(accuracy_score(knn.predict(X_test), y_test)))\n",
    "print(\" \")\n",
    "#Print classification report and confusion matrix\n",
    "print(classification_report(y_test, y_pred))\n",
    "print(\" \")\n",
    "print(confusion_matrix(y_test, y_pred))\n",
    "\n",
    "plot_confusion_matrix(knn, X_test, y_test)"
   ]
  },
  {
   "cell_type": "code",
   "execution_count": 68,
   "metadata": {},
   "outputs": [
    {
     "data": {
      "text/plain": [
       "Text(0, 0.5, 'Error Rate')"
      ]
     },
     "execution_count": 68,
     "metadata": {},
     "output_type": "execute_result"
    },
    {
     "data": {
      "image/png": "[encoded data removed]",
      "text/plain": [
       "<Figure size 720x432 with 1 Axes>"
      ]
     },
     "metadata": {
      "needs_background": "light"
     },
     "output_type": "display_data"
    }
   ],
   "source": [
    "error_rate = []\n",
    "\n",
    "for i in range(1, 40): \n",
    "      \n",
    "    knn = KNeighborsClassifier(n_neighbors = i) \n",
    "    knn.fit(X_train, y_train) \n",
    "    pred_i = knn.predict(X_test) \n",
    "    error_rate.append(np.mean(pred_i != y_test)) \n",
    "  \n",
    "plt.figure(figsize =(10, 6)) \n",
    "plt.plot(range(1, 40), error_rate, color ='blue', \n",
    "                linestyle ='dashed', marker ='o', \n",
    "         markerfacecolor ='red', markersize = 10) \n",
    "  \n",
    "plt.title('Error Rate vs. K Value') \n",
    "plt.xlabel('K') \n",
    "plt.ylabel('Error Rate') "
   ]
  },
  {
   "cell_type": "code",
   "execution_count": 71,
   "metadata": {},
   "outputs": [
    {
     "name": "stdout",
     "output_type": "stream",
     "text": [
      "KNN Accuracy Score: 0.8028169014084507\n"
     ]
    }
   ],
   "source": [
    "#retain KNN with n_neighbors = \n",
    "knn = KNeighborsClassifier(n_neighbors=15) \n",
    "knn.fit(X_train, y_train) \n",
    "\n",
    "y_pred = knn.predict(X_test)\n",
    "\n",
    "from sklearn import metrics \n",
    "print(\"KNN Accuracy Score:\", metrics.accuracy_score(y_test, y_pred))"
   ]
  },
  {
   "cell_type": "code",
   "execution_count": 72,
   "metadata": {
    "scrolled": true
   },
   "outputs": [
    {
     "name": "stdout",
     "output_type": "stream",
     "text": [
      "KNN Accuracy Score: 0.8028169014084507\n",
      " \n",
      "              precision    recall  f1-score   support\n",
      "\n",
      "           N       0.81      0.98      0.89        56\n",
      "           Y       0.67      0.13      0.22        15\n",
      "\n",
      "    accuracy                           0.80        71\n",
      "   macro avg       0.74      0.56      0.55        71\n",
      "weighted avg       0.78      0.80      0.75        71\n",
      "\n",
      " \n",
      "[[55  1]\n",
      " [13  2]]\n"
     ]
    },
    {
     "data": {
      "text/plain": [
       "<sklearn.metrics._plot.confusion_matrix.ConfusionMatrixDisplay at 0x4da4710>"
      ]
     },
     "execution_count": 72,
     "metadata": {},
     "output_type": "execute_result"
    },
    {
     "data": {
      "image/png": "[encoded data removed]",
      "text/plain": [
       "<Figure size 432x288 with 2 Axes>"
      ]
     },
     "metadata": {
      "needs_background": "light"
     },
     "output_type": "display_data"
    }
   ],
   "source": [
    "# Print the accuracy from the testing data.\n",
    "print(\"KNN Accuracy Score: \" + str(accuracy_score(knn.predict(X_test), y_test)))\n",
    "print(\" \")\n",
    "#Print classification report and confusion matrix\n",
    "print(classification_report(y_test, y_pred))\n",
    "print(\" \")\n",
    "print(confusion_matrix(y_test, y_pred))\n",
    "\n",
    "plot_confusion_matrix(knn, X_test, y_test)"
   ]
  },
  {
   "cell_type": "code",
   "execution_count": 75,
   "metadata": {},
   "outputs": [
    {
     "name": "stdout",
     "output_type": "stream",
     "text": [
      "   Fee_Amount  Processing_Time_Days  Term_Length_Years Variance_Filed  \\\n",
      "0         0.0               0.00000              0.000              Y   \n",
      "1         1.0               0.00000              0.125              Y   \n",
      "2         0.0               0.00000              0.750              Y   \n",
      "3         0.0               0.00000              0.000              Y   \n",
      "4         0.0               0.32967              0.025              Y   \n",
      "\n",
      "   Federal  Local  StateAgency  University  Access_LandUse  Facility_Lease  \\\n",
      "0        0      0            0           1               0               0   \n",
      "1        0      0            0           1               1               0   \n",
      "2        0      0            0           1               1               0   \n",
      "3        0      0            0           1               0               0   \n",
      "4        0      0            1           0               0               0   \n",
      "\n",
      "   Plant_Animal  Scientific_Permit  CentralTimeZone  EasternTimeZone  \\\n",
      "0             1                  0                0                1   \n",
      "1             0                  0                0                1   \n",
      "2             0                  0                0                1   \n",
      "3             0                  1                0                1   \n",
      "4             0                  1                0                1   \n",
      "\n",
      "   HawaiiAleutianTimeZone  MountainTimeZone  PacificTimeZone  Progam_Wide  \n",
      "0                       0                 0                0            0  \n",
      "1                       0                 0                0            0  \n",
      "2                       0                 0                0            0  \n",
      "3                       0                 0                0            0  \n",
      "4                       0                 0                0            0  \n"
     ]
    }
   ],
   "source": [
    "df.shape\n",
    "print(df.head())"
   ]
  }
 ],
 "metadata": {
  "kernelspec": {
   "display_name": "Python 3",
   "language": "python",
   "name": "python3"
  },
  "language_info": {
   "codemirror_mode": {
    "name": "ipython",
    "version": 3
   },
   "file_extension": ".py",
   "mimetype": "text/x-python",
   "name": "python",
   "nbconvert_exporter": "python",
   "pygments_lexer": "ipython3",
   "version": "3.7.6"
  }
 },
 "nbformat": 4,
 "nbformat_minor": 4
}
